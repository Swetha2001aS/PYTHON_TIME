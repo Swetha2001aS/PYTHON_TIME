{
 "cells": [
  {
   "cell_type": "markdown",
   "metadata": {},
   "source": [
    "# LIST\n"
   ]
  },
  {
   "cell_type": "code",
   "execution_count": 2,
   "metadata": {},
   "outputs": [
    {
     "name": "stdout",
     "output_type": "stream",
     "text": [
      "['yellow', 'red', 'black', 'blue']\n"
     ]
    }
   ],
   "source": [
    "color = [\"yellow\",\"red\",\"black\",\"blue\"]\n",
    "print(color)"
   ]
  },
  {
   "cell_type": "markdown",
   "metadata": {},
   "source": [
    "- add to list"
   ]
  },
  {
   "cell_type": "code",
   "execution_count": 3,
   "metadata": {},
   "outputs": [
    {
     "name": "stdout",
     "output_type": "stream",
     "text": [
      "['yellow', 'red', 'black', 'blue', 'green']\n"
     ]
    }
   ],
   "source": [
    "color.append(\"green\")\n",
    "print(color)"
   ]
  },
  {
   "cell_type": "markdown",
   "metadata": {},
   "source": [
    "- delete from list"
   ]
  },
  {
   "cell_type": "code",
   "execution_count": null,
   "metadata": {},
   "outputs": [],
   "source": [
    "color.remove(\"red\")\n",
    "print(color)"
   ]
  },
  {
   "cell_type": "markdown",
   "metadata": {},
   "source": [
    "- print first element inthe list"
   ]
  },
  {
   "cell_type": "code",
   "execution_count": 4,
   "metadata": {},
   "outputs": [
    {
     "name": "stdout",
     "output_type": "stream",
     "text": [
      "yellow\n"
     ]
    }
   ],
   "source": [
    "print(color[0])"
   ]
  },
  {
   "cell_type": "markdown",
   "metadata": {},
   "source": [
    "# Tuples\n",
    "\n",
    "A tuple is an ordered and immutable collection of items.\n"
   ]
  },
  {
   "cell_type": "code",
   "execution_count": 5,
   "metadata": {},
   "outputs": [
    {
     "name": "stdout",
     "output_type": "stream",
     "text": [
      "('sunday', 'monday', 'tuesday')\n"
     ]
    }
   ],
   "source": [
    "days = (\"sunday\",\"monday\",\"tuesday\")\n",
    "print(days)"
   ]
  },
  {
   "cell_type": "markdown",
   "metadata": {},
   "source": [
    "- store different type of datatypes\n"
   ]
  },
  {
   "cell_type": "code",
   "execution_count": 6,
   "metadata": {},
   "outputs": [
    {
     "name": "stdout",
     "output_type": "stream",
     "text": [
      "('meez', 22, 'IT')\n"
     ]
    }
   ],
   "source": [
    "student_info = (\"meez\",22,\"IT\")\n",
    "print(student_info)"
   ]
  },
  {
   "cell_type": "markdown",
   "metadata": {},
   "source": [
    "- packing and unpacking\n",
    "\n",
    " packing multiple values into a tuple and then unpacking them into variables"
   ]
  },
  {
   "cell_type": "code",
   "execution_count": 7,
   "metadata": {},
   "outputs": [],
   "source": [
    "value = (5,8,9)  #packing\n",
    "x,y,z = value    #unpackng"
   ]
  },
  {
   "cell_type": "markdown",
   "metadata": {},
   "source": [
    "- Tuples are commonly used to \n",
    "return multiple values from a function"
   ]
  },
  {
   "cell_type": "code",
   "execution_count": 8,
   "metadata": {},
   "outputs": [
    {
     "name": "stdout",
     "output_type": "stream",
     "text": [
      "index 0: sunday\n",
      "index 1: monday\n",
      "index 2: tuesday\n"
     ]
    }
   ],
   "source": [
    "\n",
    "def show():\n",
    "    pet_name = \"jazzu\"\n",
    "    age = 3\n",
    "    return pet_name,age\n",
    "pet_name,age = show()\n",
    "\n",
    "for index,days in enumerate(days):\n",
    "    print(f\"index {index}: {days}\")"
   ]
  },
  {
   "cell_type": "markdown",
   "metadata": {},
   "source": [
    "# Dictionaries\n",
    "A dictionary is an unordered collection of key-value pairs."
   ]
  },
  {
   "cell_type": "code",
   "execution_count": 9,
   "metadata": {},
   "outputs": [
    {
     "name": "stdout",
     "output_type": "stream",
     "text": [
      "{'name': 'aaa', 'age': 12, 'place': 'ssss'}\n",
      "12\n",
      "{'name': 'aaa', 'age': 12, 'place': 'ssss', 'mark': 60}\n"
     ]
    }
   ],
   "source": [
    "details = {\"name\":\"aaa\" , \"age\":12 , \"place\":\"ssss\"}\n",
    "print(details)\n",
    "print(details[\"age\"])\n",
    "\n",
    "#add ti dictionary\n",
    "details[\"mark\"] = 60\n",
    "print(details)\n",
    "\n",
    "#delete\n",
    "del details[\"place\"]"
   ]
  },
  {
   "cell_type": "markdown",
   "metadata": {},
   "source": [
    "# SETS\n",
    "A set is an unordered collection of unique elements."
   ]
  },
  {
   "cell_type": "code",
   "execution_count": 10,
   "metadata": {},
   "outputs": [
    {
     "name": "stdout",
     "output_type": "stream",
     "text": [
      "{'aa', 'cc', 'dd', 'bb'}\n",
      "{'bb', 'aa', 'ff', 'cc', 'dd'}\n",
      "{'bb', 'aa', 'ff', 'dd'}\n"
     ]
    }
   ],
   "source": [
    "words = {\"aa\",\"bb\",\"cc\",\"dd\"}\n",
    "print(words)\n",
    "\n",
    "#add to set\n",
    "words.add(\"ff\")\n",
    "print(words)\n",
    "\n",
    "#delete from sets\n",
    "words.remove(\"cc\")\n",
    "print(words)\n"
   ]
  }
 ],
 "metadata": {
  "kernelspec": {
   "display_name": "Python 3",
   "language": "python",
   "name": "python3"
  },
  "language_info": {
   "codemirror_mode": {
    "name": "ipython",
    "version": 3
   },
   "file_extension": ".py",
   "mimetype": "text/x-python",
   "name": "python",
   "nbconvert_exporter": "python",
   "pygments_lexer": "ipython3",
   "version": "3.12.0"
  }
 },
 "nbformat": 4,
 "nbformat_minor": 2
}
