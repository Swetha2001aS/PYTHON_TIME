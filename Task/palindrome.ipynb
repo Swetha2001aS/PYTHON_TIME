{
 "cells": [
  {
   "cell_type": "code",
   "execution_count": 1,
   "metadata": {},
   "outputs": [
    {
     "ename": "ValueError",
     "evalue": "invalid literal for int() with base 10: ''",
     "output_type": "error",
     "traceback": [
      "\u001b[1;31m---------------------------------------------------------------------------\u001b[0m",
      "\u001b[1;31mValueError\u001b[0m                                Traceback (most recent call last)",
      "\u001b[1;32me:\\Python_Time\\Task\\palindrome.ipynb Cell 1\u001b[0m line \u001b[0;36m1\n\u001b[1;32m----> <a href='vscode-notebook-cell:/e%3A/Python_Time/Task/palindrome.ipynb#W0sZmlsZQ%3D%3D?line=0'>1</a>\u001b[0m x \u001b[39m=\u001b[39m \u001b[39mint\u001b[39;49m(\u001b[39minput\u001b[39;49m(\u001b[39m\"\u001b[39;49m\u001b[39mEnter a number: \u001b[39;49m\u001b[39m\"\u001b[39;49m))\n\u001b[0;32m      <a href='vscode-notebook-cell:/e%3A/Python_Time/Task/palindrome.ipynb#W0sZmlsZQ%3D%3D?line=1'>2</a>\u001b[0m rev\u001b[39m=\u001b[39m\u001b[39m0\u001b[39m\n\u001b[0;32m      <a href='vscode-notebook-cell:/e%3A/Python_Time/Task/palindrome.ipynb#W0sZmlsZQ%3D%3D?line=2'>3</a>\u001b[0m s \u001b[39m=\u001b[39m x\n",
      "\u001b[1;31mValueError\u001b[0m: invalid literal for int() with base 10: ''"
     ]
    }
   ],
   "source": [
    "\n",
    "x = int(input(\"Enter a number: \"))\n",
    "rev=0\n",
    "s = x\n",
    "while x > 0:\n",
    "    y = x % 10\n",
    "    rev = (rev*10) + y\n",
    "    x = x//10\n",
    "\n",
    "print(rev)\n",
    "\n",
    "if s == rev:\n",
    "    print(\"palindrome\")\n",
    "else:\n",
    "    print(\"not palindrom\")"
   ]
  },
  {
   "cell_type": "code",
   "execution_count": null,
   "metadata": {},
   "outputs": [],
   "source": [
    "from ast import Num\n",
    "import numbers\n",
    "\n",
    "\n",
    "class palindrome:\n",
    "    def __init__(self):\n",
    "        self.num = None\n",
    "    def get_num(self):\n",
    "        self.num = int(input(\"enter a number: \"))\n",
    "        \n",
    "    def pall(self):\n",
    "        org = self.num\n",
    "        rev = int(str(self.num)[::-1])\n",
    "        return org == rev\n",
    "p=palindrome() \n",
    "p.get_num()\n",
    "if p.pall():\n",
    "    print(\"its a palindrom\")\n",
    "else:\n",
    "    print(\"is not a palindrom\")\n"
   ]
  }
 ],
 "metadata": {
  "kernelspec": {
   "display_name": "Python 3",
   "language": "python",
   "name": "python3"
  },
  "language_info": {
   "codemirror_mode": {
    "name": "ipython",
    "version": 3
   },
   "file_extension": ".py",
   "mimetype": "text/x-python",
   "name": "python",
   "nbconvert_exporter": "python",
   "pygments_lexer": "ipython3",
   "version": "3.12.0"
  }
 },
 "nbformat": 4,
 "nbformat_minor": 2
}
