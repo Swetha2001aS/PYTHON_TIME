{
 "cells": [
  {
   "cell_type": "code",
   "execution_count": null,
   "metadata": {},
   "outputs": [
    {
     "name": "stdout",
     "output_type": "stream",
     "text": [
      "hii all\n",
      "hii all\n"
     ]
    },
    {
     "name": "stdout",
     "output_type": "stream",
     "text": [
      "hii all\n",
      "hii all\n"
     ]
    }
   ],
   "source": [
    "print(\"hii all\")\n",
    "print(\"hii all\")"
   ]
  },
  {
   "cell_type": "markdown",
   "metadata": {},
   "source": [
    "## Encapsulation"
   ]
  },
  {
   "cell_type": "code",
   "execution_count": null,
   "metadata": {},
   "outputs": [
    {
     "name": "stdout",
     "output_type": "stream",
     "text": [
      "balance for meez:5000\n"
     ]
    }
   ],
   "source": [
    "# Encapsulation\n",
    "\n",
    "class Bank:\n",
    "    def __init__(self,ac_holder,balance) -> None:\n",
    "        self._ac_holder = ac_holder       # '_' meanse protected atribute\n",
    "        self.__balance = balance   # '__' meanse private attribute\n",
    "    \n",
    "    def display_balance(self):\n",
    "        print(f\"balance for {self._ac_holder}:{self.__balance}\")\n",
    "\n",
    "    def deposit(self,amount):\n",
    "        self.__balance += amount\n",
    "\n",
    "    def withdraw(self, amount):\n",
    "        if amount <= self.__balance:\n",
    "            self.__balance -= amount\n",
    "        else:\n",
    "            print(\"Insufficient funt\")\n",
    "\n",
    "account = Bank(\"meez\",5000)\n",
    "account.display_balance()\n",
    "account.deposit(500)\n",
    "account.withdraw(200)\n",
    "\n",
    "\n"
   ]
  },
  {
   "cell_type": "markdown",
   "metadata": {},
   "source": [
    "# "
   ]
  }
 ],
 "metadata": {
  "kernelspec": {
   "display_name": "Python 3",
   "language": "python",
   "name": "python3"
  },
  "language_info": {
   "codemirror_mode": {
    "name": "ipython",
    "version": 3
   },
   "file_extension": ".py",
   "mimetype": "text/x-python",
   "name": "python",
   "nbconvert_exporter": "python",
   "pygments_lexer": "ipython3",
   "version": "3.12.0"
  }
 },
 "nbformat": 4,
 "nbformat_minor": 2
}
