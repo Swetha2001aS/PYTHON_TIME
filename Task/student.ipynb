{
 "cells": [
  {
   "cell_type": "code",
   "execution_count": 4,
   "metadata": {},
   "outputs": [
    {
     "name": "stdout",
     "output_type": "stream",
     "text": [
      "stud info\n",
      "Student Details\n"
     ]
    },
    {
     "ename": "AttributeError",
     "evalue": "'Student' object has no attribute 'name'",
     "output_type": "error",
     "traceback": [
      "\u001b[1;31m---------------------------------------------------------------------------\u001b[0m",
      "\u001b[1;31mAttributeError\u001b[0m                            Traceback (most recent call last)",
      "\u001b[1;32me:\\Python_Time\\Task\\student.ipynb Cell 1\u001b[0m line \u001b[0;36m5\n\u001b[0;32m     <a href='vscode-notebook-cell:/e%3A/Python_Time/Task/student.ipynb#W0sZmlsZQ%3D%3D?line=55'>56</a>\u001b[0m class_cs2 \u001b[39m=\u001b[39m Class(\u001b[39m\"\u001b[39m\u001b[39mcs\u001b[39m\u001b[39m\"\u001b[39m,\u001b[39m102\u001b[39m,\u001b[39m\"\u001b[39m\u001b[39mdelisha\u001b[39m\u001b[39m\"\u001b[39m,\u001b[39m3456\u001b[39m)\n\u001b[0;32m     <a href='vscode-notebook-cell:/e%3A/Python_Time/Task/student.ipynb#W0sZmlsZQ%3D%3D?line=57'>58</a>\u001b[0m \u001b[39mprint\u001b[39m(\u001b[39m\"\u001b[39m\u001b[39mstud info\u001b[39m\u001b[39m\"\u001b[39m)\n\u001b[1;32m---> <a href='vscode-notebook-cell:/e%3A/Python_Time/Task/student.ipynb#W0sZmlsZQ%3D%3D?line=58'>59</a>\u001b[0m s1\u001b[39m.\u001b[39;49mdisplay_info()\n\u001b[0;32m     <a href='vscode-notebook-cell:/e%3A/Python_Time/Task/student.ipynb#W0sZmlsZQ%3D%3D?line=59'>60</a>\u001b[0m \u001b[39mprint\u001b[39m(\u001b[39m\"\u001b[39m\u001b[39mdept info\u001b[39m\u001b[39m\"\u001b[39m)\n\u001b[0;32m     <a href='vscode-notebook-cell:/e%3A/Python_Time/Task/student.ipynb#W0sZmlsZQ%3D%3D?line=60'>61</a>\u001b[0m dep_it\u001b[39m.\u001b[39mdisplay_info()\n",
      "\u001b[1;32me:\\Python_Time\\Task\\student.ipynb Cell 1\u001b[0m line \u001b[0;36m1\n\u001b[0;32m     <a href='vscode-notebook-cell:/e%3A/Python_Time/Task/student.ipynb#W0sZmlsZQ%3D%3D?line=14'>15</a>\u001b[0m \u001b[39mdef\u001b[39;00m \u001b[39mdisplay_info\u001b[39m(\u001b[39mself\u001b[39m):\n\u001b[0;32m     <a href='vscode-notebook-cell:/e%3A/Python_Time/Task/student.ipynb#W0sZmlsZQ%3D%3D?line=15'>16</a>\u001b[0m     \u001b[39mprint\u001b[39m(\u001b[39m\"\u001b[39m\u001b[39mStudent Details\u001b[39m\u001b[39m\"\u001b[39m)\n\u001b[1;32m---> <a href='vscode-notebook-cell:/e%3A/Python_Time/Task/student.ipynb#W0sZmlsZQ%3D%3D?line=16'>17</a>\u001b[0m     \u001b[39mprint\u001b[39m(\u001b[39m\"\u001b[39m\u001b[39mname:\u001b[39m\u001b[39m\"\u001b[39m,\u001b[39mself\u001b[39;49m\u001b[39m.\u001b[39;49mname)\n\u001b[0;32m     <a href='vscode-notebook-cell:/e%3A/Python_Time/Task/student.ipynb#W0sZmlsZQ%3D%3D?line=17'>18</a>\u001b[0m     \u001b[39mprint\u001b[39m(\u001b[39m\"\u001b[39m\u001b[39mage:\u001b[39m\u001b[39m\"\u001b[39m,\u001b[39mself\u001b[39m\u001b[39m.\u001b[39mage)\n\u001b[0;32m     <a href='vscode-notebook-cell:/e%3A/Python_Time/Task/student.ipynb#W0sZmlsZQ%3D%3D?line=18'>19</a>\u001b[0m     \u001b[39mprint\u001b[39m(\u001b[39m\"\u001b[39m\u001b[39mStudent Id:\u001b[39m\u001b[39m\"\u001b[39m,\u001b[39mself\u001b[39m\u001b[39m.\u001b[39mstudent_id)\n",
      "\u001b[1;31mAttributeError\u001b[0m: 'Student' object has no attribute 'name'"
     ]
    }
   ],
   "source": [
    "class Person:\n",
    "    def __init__(self,name,age):\n",
    "        self.name = name\n",
    "        self.age = age\n",
    "    \n",
    "    def display(self):\n",
    "        pass\n",
    "\n",
    "class Student(Person):\n",
    "    def __init__(self, student_id,department,classes_enrolled) -> None:\n",
    "        self.student_id = student_id\n",
    "        self.department = department\n",
    "        self.classes_entrolled = classes_enrolled\n",
    "\n",
    "    def display_info(self):\n",
    "        print(\"Student Details\")\n",
    "        print(\"name:\",self.name)\n",
    "        print(\"age:\",self.age)\n",
    "        print(\"Student Id:\",self.student_id)\n",
    "        print(\"Enrolled classes:\",self.classes_entrolled)\n",
    "\n",
    "class Department(Person):\n",
    "    def __init__(self, dep_name,hod,class_offered) -> None:\n",
    "        self.dep_name = dep_name\n",
    "        self.hod = hod\n",
    "        self.class_offered =class_offered\n",
    "\n",
    "    def display_info(self):\n",
    "        print(\"dep information\")\n",
    "        print(\"name:\",self.name)\n",
    "        print(\"head:\",self.hod)\n",
    "        print(\"list of classess offered:\",self.class_offered)\n",
    "\n",
    "class Class:\n",
    "    def __init__(self,class_name,class_code,instruction,student_entrolled) -> None:\n",
    "        self.class_name = class_name\n",
    "        self.class_code = class_code\n",
    "        self.instruction = instruction\n",
    "        self.student_entrolled = student_entrolled\n",
    "\n",
    "    def display_info(self):\n",
    "        print(\"class information\")\n",
    "        print(\"class name:\",self.class_name)\n",
    "        print(\"class code:\",self.class_code)\n",
    "        print(\"class_instruction:\",self.instruction)\n",
    "        print(\"list of introlled student:\",self.student_entrolled)\n",
    "\n",
    "if __name__ == \"__main__\":\n",
    "    s1 = Student(123,\"it\",\"it b\")\n",
    "    s2 = Student(21,\"s3\",\"cs\")\n",
    "\n",
    "    dep_it = Department(\"aaaaa\",\"delisha\",\"sarika\")\n",
    "    dep_cs = Department(\"eeee\",\"renu\",\"sreeja\")\n",
    "\n",
    "    class_it1 = Class(\"it\",101,\"sarika\",1234)\n",
    "    class_cs2 = Class(\"cs\",102,\"delisha\",3456)\n",
    "\n",
    "    print(\"stud info\")\n",
    "    s1.display_info()\n",
    "    print(\"dept info\")\n",
    "    dep_it.display_info()\n",
    "    print(\"class info\")\n",
    "    class_cs2.display_info()        \n",
    "\n",
    "    \n",
    "\n",
    "\n",
    "    "
   ]
  }
 ],
 "metadata": {
  "kernelspec": {
   "display_name": "Python 3",
   "language": "python",
   "name": "python3"
  },
  "language_info": {
   "codemirror_mode": {
    "name": "ipython",
    "version": 3
   },
   "file_extension": ".py",
   "mimetype": "text/x-python",
   "name": "python",
   "nbconvert_exporter": "python",
   "pygments_lexer": "ipython3",
   "version": "3.12.0"
  }
 },
 "nbformat": 4,
 "nbformat_minor": 2
}
