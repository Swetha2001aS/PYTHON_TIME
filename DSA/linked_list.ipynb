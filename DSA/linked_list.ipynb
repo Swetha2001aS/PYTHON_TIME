{
 "cells": [
  {
   "cell_type": "code",
   "execution_count": 1,
   "metadata": {},
   "outputs": [
    {
     "name": "stdout",
     "output_type": "stream",
     "text": [
      "1\n",
      "2\n",
      "3\n",
      "4\n"
     ]
    }
   ],
   "source": [
    "class NewNode:\n",
    "    def __init__(self, data) -> None:\n",
    "        self.data = data\n",
    "        self.next = None\n",
    "\n",
    "class single_list:\n",
    "    def __init__(self) -> None:\n",
    "        self.head = None\n",
    "\n",
    "    def insert(self, data):\n",
    "        if self.head == None:\n",
    "            self.head = NewNode(data)\n",
    "        \n",
    "        else:\n",
    "            end = self.head\n",
    "            while end.next != None:\n",
    "                end = end.next\n",
    "            end.next = NewNode(data)\n",
    "\n",
    "\n",
    "    def traverse(self):\n",
    "        if self.head == None:\n",
    "            print(\"list...empty\")\n",
    "        else:\n",
    "            end = self.head\n",
    "            while end != None:\n",
    "                print(end.data)\n",
    "                end = end.next\n",
    "           \n",
    "   \n",
    "\n",
    "my_list = single_list()  \n",
    "my_list.insert(1)\n",
    "my_list.insert(2)\n",
    "my_list.insert(3)\n",
    "my_list.insert(4)\n",
    "\n",
    "my_list.traverse()"
   ]
  }
 ],
 "metadata": {
  "kernelspec": {
   "display_name": "Python 3",
   "language": "python",
   "name": "python3"
  },
  "language_info": {
   "codemirror_mode": {
    "name": "ipython",
    "version": 3
   },
   "file_extension": ".py",
   "mimetype": "text/x-python",
   "name": "python",
   "nbconvert_exporter": "python",
   "pygments_lexer": "ipython3",
   "version": "3.12.0"
  }
 },
 "nbformat": 4,
 "nbformat_minor": 2
}
