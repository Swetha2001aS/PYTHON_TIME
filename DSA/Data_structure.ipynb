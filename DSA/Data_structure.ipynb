{
 "cells": [
  {
   "cell_type": "markdown",
   "metadata": {},
   "source": [
    "# Python Data Structures and Algorithms\n"
   ]
  },
  {
   "cell_type": "markdown",
   "metadata": {},
   "source": [
    "## List\n",
    "- ordered collection of data like arrays\n",
    "- operations such as insert, delete\n"
   ]
  },
  {
   "cell_type": "markdown",
   "metadata": {},
   "source": [
    "### accessing a element using negative index "
   ]
  },
  {
   "cell_type": "code",
   "execution_count": 1,
   "metadata": {},
   "outputs": [
    {
     "name": "stdout",
     "output_type": "stream",
     "text": [
      "www\n",
      "lllll\n",
      "erere\n"
     ]
    }
   ],
   "source": [
    "list = ['www','erere','hiuii','lllll']\n",
    "print(list[0])\n",
    "print(list[-1])\n",
    "print(list[-3])"
   ]
  },
  {
   "cell_type": "markdown",
   "metadata": {},
   "source": [
    "### Multi-dimentional List"
   ]
  },
  {
   "cell_type": "code",
   "execution_count": 2,
   "metadata": {},
   "outputs": [
    {
     "name": "stdout",
     "output_type": "stream",
     "text": [
      "[['hiii', 'ssss'], ['AA']]\n"
     ]
    }
   ],
   "source": [
    "List1 = [['hiii','ssss'],['AA']]\n",
    "print(List1)"
   ]
  },
  {
   "cell_type": "markdown",
   "metadata": {},
   "source": [
    "## TUPLE\n",
    "- similar to lists but Tuples are immutable in nature \n",
    "- element there must be a trailing comma."
   ]
  },
  {
   "cell_type": "markdown",
   "metadata": {},
   "source": [
    "### create a Tuple with use of list"
   ]
  },
  {
   "cell_type": "code",
   "execution_count": 3,
   "metadata": {},
   "outputs": [
    {
     "name": "stdout",
     "output_type": "stream",
     "text": [
      "first element\n",
      "1\n",
      "last element\n",
      "7\n"
     ]
    }
   ],
   "source": [
    "list2 = [1,2,3,4,5,6,7]\n",
    "Tuple = tuple(list2)\n",
    "print(\"first element\")\n",
    "print(Tuple[0])\n",
    "print(\"last element\")\n",
    "print(Tuple[-1])"
   ]
  },
  {
   "cell_type": "markdown",
   "metadata": {},
   "source": [
    "# SET\n",
    "-  mutable collection of data that does not allow any duplication\n",
    "- If Multiple values are present at the same index position, then the value is appended to that index position, to form a Linked List"
   ]
  },
  {
   "cell_type": "code",
   "execution_count": 4,
   "metadata": {},
   "outputs": [
    {
     "name": "stdout",
     "output_type": "stream",
     "text": [
      "{1, 2, 3, 4, 5, 6, 7, 8, 'aaaa', 'hhhh'}\n",
      "elements of set:\n",
      "1 2 3 4 5 6 7 8 aaaa hhhh \n"
     ]
    }
   ],
   "source": [
    "Set = set([1,2,'aaaa',3,4,5,'hhhh',6,7,8])\n",
    "print(Set)\n",
    "print(\"elements of set:\")\n",
    "for i in Set:\n",
    "    print(i,end= \" \")\n",
    "print()\n"
   ]
  },
  {
   "cell_type": "markdown",
   "metadata": {},
   "source": [
    "### checking the element in the Keyword"
   ]
  },
  {
   "cell_type": "code",
   "execution_count": 5,
   "metadata": {},
   "outputs": [
    {
     "name": "stdout",
     "output_type": "stream",
     "text": [
      "True\n"
     ]
    }
   ],
   "source": [
    "print(\"hhhh\" in Set)"
   ]
  },
  {
   "cell_type": "markdown",
   "metadata": {},
   "source": [
    "## Frozen Sets\n",
    "- in Python are immutable objects that only support methods and operators that produce a result without affecting the frozen set or sets to which they are applied\n",
    "- While elements of a set can be modified at any time, elements of the frozen set remain the same after creation."
   ]
  },
  {
   "cell_type": "code",
   "execution_count": 6,
   "metadata": {},
   "outputs": [
    {
     "name": "stdout",
     "output_type": "stream",
     "text": [
      "{'b', 'a', 'c'}\n",
      "frozenset({'w', 'y', 'x'})\n"
     ]
    }
   ],
   "source": [
    "# Same as {\"a\", \"b\",\"c\"}\n",
    "normal_set = set([\"a\", \"b\",\"c\"])\n",
    "print(normal_set)\n",
    "\n",
    "# A frozen set\n",
    "frozen_set = frozenset([\"w\",\"x\",\"y\"])\n",
    "print(frozen_set)\n",
    "\n",
    "# Uncommenting below line would cause error as\n",
    "# we are trying to add element to a frozen set\n",
    "# frozen_set.add(\"h\")\n",
    "\n"
   ]
  },
  {
   "cell_type": "markdown",
   "metadata": {},
   "source": [
    "## STRING\n",
    "- immutable array of bytes representing Unicode characters.\n",
    "- single character is simply a string with a length of 1.\n",
    "- modifying a string will result in creating a new copy."
   ]
  },
  {
   "cell_type": "code",
   "execution_count": 7,
   "metadata": {},
   "outputs": [
    {
     "name": "stdout",
     "output_type": "stream",
     "text": [
      "welcome back\n",
      "w\n",
      "k\n"
     ]
    }
   ],
   "source": [
    "String = \"welcome back\"\n",
    "print(String)\n",
    "print(String[0])\n",
    "print(String[-1])"
   ]
  },
  {
   "cell_type": "markdown",
   "metadata": {},
   "source": [
    "## DICTIONARY\n",
    "-  unordered collection of data that stores data in the format of key:value pair\n",
    "- time complexity of O(1)\n",
    "- These are of any hashable type\n",
    "- using curly braces ({}) or dictionary comprehension\n",
    "\n"
   ]
  },
  {
   "cell_type": "code",
   "execution_count": 8,
   "metadata": {},
   "outputs": [
    {
     "name": "stdout",
     "output_type": "stream",
     "text": [
      "{'name': 'swetha', 1: [2, 3, 5, 7, 9, 4]}\n",
      "accesing a element using the key\n",
      "swetha\n",
      "accessing a element using get\n",
      "[2, 3, 5, 7, 9, 4]\n",
      "{1: 1, 2: 4, 3: 9, 4: 16, 5: 25}\n"
     ]
    }
   ],
   "source": [
    "Dict = {'name':'swetha',1:[2,3,5,7,9,4]}\n",
    "print(Dict)\n",
    "\n",
    "print(\"accesing a element using the key\")\n",
    "print(Dict['name'])\n",
    "\n",
    "print(\"accessing a element using get\")\n",
    "print(Dict.get(1))\n",
    "\n",
    "# creation using Dictionary comprehension\n",
    "myDict = {x: x**2 for x in [1,2,3,4,5]}\n",
    "print(myDict)"
   ]
  },
  {
   "cell_type": "markdown",
   "metadata": {},
   "source": [
    "## MATRIX\n",
    "\n",
    "- A matrix is a 2D array where each element is of strictly the same size\n",
    "- To create a matrix we will be using the NumPy package."
   ]
  },
  {
   "cell_type": "code",
   "execution_count": 3,
   "metadata": {},
   "outputs": [
    {
     "ename": "ModuleNotFoundError",
     "evalue": "No module named 'numpy'",
     "output_type": "error",
     "traceback": [
      "\u001b[1;31m---------------------------------------------------------------------------\u001b[0m",
      "\u001b[1;31mModuleNotFoundError\u001b[0m                       Traceback (most recent call last)",
      "\u001b[1;32me:\\Python_Time\\DSA\\Data_structure.ipynb Cell 21\u001b[0m line \u001b[0;36m1\n\u001b[1;32m----> <a href='vscode-notebook-cell:/e%3A/Python_Time/DSA/Data_structure.ipynb#X26sZmlsZQ%3D%3D?line=0'>1</a>\u001b[0m \u001b[39mimport\u001b[39;00m \u001b[39mnumpy\u001b[39;00m \u001b[39mas\u001b[39;00m \u001b[39mnp\u001b[39;00m\n\u001b[0;32m      <a href='vscode-notebook-cell:/e%3A/Python_Time/DSA/Data_structure.ipynb#X26sZmlsZQ%3D%3D?line=2'>3</a>\u001b[0m a \u001b[39m=\u001b[39m np\u001b[39m.\u001b[39marray([\u001b[39m1\u001b[39m,\u001b[39m2\u001b[39m,\u001b[39m3\u001b[39m,\u001b[39m4\u001b[39m,],[\u001b[39m2\u001b[39m,\u001b[39m5\u001b[39m,\u001b[39m2\u001b[39m,\u001b[39m55\u001b[39m],\n\u001b[0;32m      <a href='vscode-notebook-cell:/e%3A/Python_Time/DSA/Data_structure.ipynb#X26sZmlsZQ%3D%3D?line=3'>4</a>\u001b[0m              [\u001b[39m8\u001b[39m,\u001b[39m7\u001b[39m,\u001b[39m6\u001b[39m,\u001b[39m5\u001b[39m],[\u001b[39m3\u001b[39m,\u001b[39m6\u001b[39m,\u001b[39m4\u001b[39m,\u001b[39m1\u001b[39m])\n\u001b[0;32m      <a href='vscode-notebook-cell:/e%3A/Python_Time/DSA/Data_structure.ipynb#X26sZmlsZQ%3D%3D?line=4'>5</a>\u001b[0m m \u001b[39m=\u001b[39m np\u001b[39m.\u001b[39mreshape(a,(\u001b[39m4\u001b[39m,\u001b[39m4\u001b[39m))\n",
      "\u001b[1;31mModuleNotFoundError\u001b[0m: No module named 'numpy'"
     ]
    }
   ],
   "source": [
    "import numpy as np\n",
    "\n",
    "a = np.array([1,2,3,4,],[2,5,2,55],\n",
    "             [8,7,6,5],[3,6,4,1])\n",
    "m = np.reshape(a,(4,4))\n",
    "print(m) "
   ]
  }
 ],
 "metadata": {
  "kernelspec": {
   "display_name": "Python 3",
   "language": "python",
   "name": "python3"
  },
  "language_info": {
   "codemirror_mode": {
    "name": "ipython",
    "version": 3
   },
   "file_extension": ".py",
   "mimetype": "text/x-python",
   "name": "python",
   "nbconvert_exporter": "python",
   "pygments_lexer": "ipython3",
   "version": "3.12.0"
  }
 },
 "nbformat": 4,
 "nbformat_minor": 2
}
