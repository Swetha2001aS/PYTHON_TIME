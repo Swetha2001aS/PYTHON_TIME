{
 "cells": [
  {
   "cell_type": "markdown",
   "metadata": {},
   "source": [
    "# Class\n",
    "A class is a blueprint for creating objects. It defines the structure \n",
    "and behavior that its objects will have"
   ]
  },
  {
   "cell_type": "code",
   "execution_count": 1,
   "metadata": {},
   "outputs": [],
   "source": [
    "class car:\n",
    "    pass"
   ]
  },
  {
   "cell_type": "markdown",
   "metadata": {},
   "source": [
    "# object\n",
    "An object is a specific instance of a class\n"
   ]
  },
  {
   "cell_type": "code",
   "execution_count": 2,
   "metadata": {},
   "outputs": [],
   "source": [
    "my_class = car()\n"
   ]
  },
  {
   "cell_type": "markdown",
   "metadata": {},
   "source": [
    "# attributes or variables\n",
    "Attributes are data members (variables) \n",
    "associated with a class or an object\n",
    "\n"
   ]
  },
  {
   "cell_type": "code",
   "execution_count": 7,
   "metadata": {},
   "outputs": [
    {
     "name": "stdout",
     "output_type": "stream",
     "text": [
      "72\n",
      "name:splender, gear: 72\n",
      "name:xpulse, gear: 34\n"
     ]
    }
   ],
   "source": [
    "class Bike:\n",
    "    def ___init___(self,name = \"\",gear =0):\n",
    "        self.name = name\n",
    "        self.gear = gear\n",
    "    def abcd(self,gggg):\n",
    "        self.gear += gggg\n",
    "# create object\n",
    "bike1 = Bike()\n",
    "bike2 = Bike()\n",
    "bike1.name = \"splender\" #insert a values\n",
    "bike2.name = \"xpulse\" \n",
    "bike2.gear = 34\n",
    "bike1.gear = 12\n",
    "bike1.abcd(60)\n",
    "print(bike1.gear)\n",
    "print(f\"name:{bike1.name}, gear: {bike1.gear}\") #print using '.'\n",
    "print(f\"name:{bike2.name}, gear: {bike2.gear}\") #print using '.'\n",
    "\n"
   ]
  },
  {
   "cell_type": "code",
   "execution_count": 9,
   "metadata": {},
   "outputs": [
    {
     "name": "stdout",
     "output_type": "stream",
     "text": [
      "1200\n"
     ]
    }
   ],
   "source": [
    "class Rectangle:\n",
    "\n",
    "    def __init__(self, length, breadth):\n",
    "        self.length = length\n",
    "        self.breadth = breadth\n",
    "    def area(self):\n",
    "        return self. length * self.breadth\n",
    "\n",
    "obj = Rectangle(30,40)\n",
    "print(obj.area())"
   ]
  },
  {
   "cell_type": "code",
   "execution_count": 10,
   "metadata": {},
   "outputs": [
    {
     "name": "stdout",
     "output_type": "stream",
     "text": [
      "area= 15\n"
     ]
    }
   ],
   "source": [
    "class rectangle:\n",
    "    def __init__(self, l, b):\n",
    "        self.l = l\n",
    "        self.b = b\n",
    "    def area(self):\n",
    "        s = self.b * self.l\n",
    "        print(\"area=\", s)\n",
    "\n",
    "a = rectangle(3, 5)\n",
    "a.area()"
   ]
  }
 ],
 "metadata": {
  "kernelspec": {
   "display_name": "Python 3",
   "language": "python",
   "name": "python3"
  },
  "language_info": {
   "codemirror_mode": {
    "name": "ipython",
    "version": 3
   },
   "file_extension": ".py",
   "mimetype": "text/x-python",
   "name": "python",
   "nbconvert_exporter": "python",
   "pygments_lexer": "ipython3",
   "version": "3.12.0"
  }
 },
 "nbformat": 4,
 "nbformat_minor": 2
}
