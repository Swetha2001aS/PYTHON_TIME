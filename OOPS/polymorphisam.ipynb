{
 "cells": [
  {
   "cell_type": "markdown",
   "metadata": {},
   "source": [
    "# POLYMORPHISAM\n",
    "many forms - it allows objects of different classes to be\n",
    " treated as objects of a common base class."
   ]
  },
  {
   "cell_type": "code",
   "execution_count": 1,
   "metadata": {},
   "outputs": [
    {
     "name": "stdout",
     "output_type": "stream",
     "text": [
      "woof\n",
      "meow\n"
     ]
    }
   ],
   "source": [
    "class Animal:\n",
    "    def __init__(self,name) -> None:\n",
    "        self.name = name\n",
    "    def speak(self):\n",
    "        pass\n",
    "\n",
    "class dog(Animal):\n",
    "    def speak(self):\n",
    "        print(\"woof\")\n",
    "    \n",
    "class cat(Animal):\n",
    "    def speak(self):\n",
    "        print(\"meow\")\n",
    "\n",
    "dogs = dog(\"fido\")\n",
    "cats = cat(\"jazzu\")\n",
    "dogs.speak()\n",
    "cats.speak()"
   ]
  }
 ],
 "metadata": {
  "kernelspec": {
   "display_name": "Python 3",
   "language": "python",
   "name": "python3"
  },
  "language_info": {
   "codemirror_mode": {
    "name": "ipython",
    "version": 3
   },
   "file_extension": ".py",
   "mimetype": "text/x-python",
   "name": "python",
   "nbconvert_exporter": "python",
   "pygments_lexer": "ipython3",
   "version": "3.12.0"
  }
 },
 "nbformat": 4,
 "nbformat_minor": 2
}
