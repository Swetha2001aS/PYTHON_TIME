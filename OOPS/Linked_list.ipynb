{
 "cells": [
  {
   "cell_type": "markdown",
   "metadata": {},
   "source": [
    "# LINKED LIST"
   ]
  },
  {
   "cell_type": "code",
   "execution_count": 10,
   "metadata": {},
   "outputs": [
    {
     "ename": "TypeError",
     "evalue": "single_list.traverse() takes 1 positional argument but 2 were given",
     "output_type": "error",
     "traceback": [
      "\u001b[1;31m---------------------------------------------------------------------------\u001b[0m",
      "\u001b[1;31mTypeError\u001b[0m                                 Traceback (most recent call last)",
      "\u001b[1;32me:\\Python_Time\\OOPS\\Linked_list.ipynb Cell 2\u001b[0m line \u001b[0;36m3\n\u001b[0;32m     <a href='vscode-notebook-cell:/e%3A/Python_Time/OOPS/Linked_list.ipynb#W2sZmlsZQ%3D%3D?line=33'>34</a>\u001b[0m my_list\u001b[39m.\u001b[39minsert(\u001b[39m3\u001b[39m)\n\u001b[0;32m     <a href='vscode-notebook-cell:/e%3A/Python_Time/OOPS/Linked_list.ipynb#W2sZmlsZQ%3D%3D?line=34'>35</a>\u001b[0m my_list\u001b[39m.\u001b[39minsert(\u001b[39m4\u001b[39m)\n\u001b[1;32m---> <a href='vscode-notebook-cell:/e%3A/Python_Time/OOPS/Linked_list.ipynb#W2sZmlsZQ%3D%3D?line=36'>37</a>\u001b[0m my_list\u001b[39m.\u001b[39;49mtraverse(\u001b[39m1\u001b[39;49m)\n",
      "\u001b[1;31mTypeError\u001b[0m: single_list.traverse() takes 1 positional argument but 2 were given"
     ]
    }
   ],
   "source": [
    "class NewNode:\n",
    "    def __init__(self, data) -> None:\n",
    "        self.data = data\n",
    "        self.next = None\n",
    "\n",
    "class single_list:\n",
    "    def __init__(self) -> None:\n",
    "        self.head = None\n",
    "#insert \n",
    "    def insert(self, data):\n",
    "        if self.head == None:\n",
    "            self.head = NewNode(data)\n",
    "        \n",
    "        else:\n",
    "            end = self.head\n",
    "            while end.next != None:\n",
    "                end = end.next\n",
    "            end.next = NewNode(data)\n",
    "#traverse\n",
    "\n",
    "    def traverse(self):\n",
    "        if self.head == None:\n",
    "            print(\"list...empty\")\n",
    "        else:\n",
    "            end = self.head\n",
    "        while end != None:\n",
    "                print(end.data)\n",
    "           \n",
    "   \n",
    "\n",
    "my_list = single_list()  \n",
    "my_list.insert(1)\n",
    "my_list.insert(2)\n",
    "my_list.insert(3)\n",
    "my_list.insert(4)\n",
    "\n",
    "my_list.traverse(1)"
   ]
  }
 ],
 "metadata": {
  "kernelspec": {
   "display_name": "Python 3",
   "language": "python",
   "name": "python3"
  },
  "language_info": {
   "codemirror_mode": {
    "name": "ipython",
    "version": 3
   },
   "file_extension": ".py",
   "mimetype": "text/x-python",
   "name": "python",
   "nbconvert_exporter": "python",
   "pygments_lexer": "ipython3",
   "version": "3.12.0"
  }
 },
 "nbformat": 4,
 "nbformat_minor": 2
}
