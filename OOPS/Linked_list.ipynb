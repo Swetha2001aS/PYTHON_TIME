{
 "cells": [
  {
   "cell_type": "markdown",
   "metadata": {},
   "source": [
    "# LINKED LIST"
   ]
  },
  {
   "cell_type": "code",
   "execution_count": 3,
   "metadata": {},
   "outputs": [
    {
     "ename": "NameError",
     "evalue": "name 'data' is not defined",
     "output_type": "error",
     "traceback": [
      "\u001b[1;31m---------------------------------------------------------------------------\u001b[0m",
      "\u001b[1;31mNameError\u001b[0m                                 Traceback (most recent call last)",
      "\u001b[1;32me:\\Python_Time\\OOPS\\Linked_list.ipynb Cell 2\u001b[0m line \u001b[0;36m3\n\u001b[0;32m     <a href='vscode-notebook-cell:/e%3A/Python_Time/OOPS/Linked_list.ipynb#W2sZmlsZQ%3D%3D?line=26'>27</a>\u001b[0m                 \u001b[39mprint\u001b[39m(end\u001b[39m.\u001b[39mdata)\n\u001b[0;32m     <a href='vscode-notebook-cell:/e%3A/Python_Time/OOPS/Linked_list.ipynb#W2sZmlsZQ%3D%3D?line=30'>31</a>\u001b[0m my_list \u001b[39m=\u001b[39m single_list()  \n\u001b[1;32m---> <a href='vscode-notebook-cell:/e%3A/Python_Time/OOPS/Linked_list.ipynb#W2sZmlsZQ%3D%3D?line=31'>32</a>\u001b[0m my_list\u001b[39m.\u001b[39;49minsert(\u001b[39m1\u001b[39;49m)\n\u001b[0;32m     <a href='vscode-notebook-cell:/e%3A/Python_Time/OOPS/Linked_list.ipynb#W2sZmlsZQ%3D%3D?line=32'>33</a>\u001b[0m my_list\u001b[39m.\u001b[39minsert(\u001b[39m2\u001b[39m)\n\u001b[0;32m     <a href='vscode-notebook-cell:/e%3A/Python_Time/OOPS/Linked_list.ipynb#W2sZmlsZQ%3D%3D?line=33'>34</a>\u001b[0m my_list\u001b[39m.\u001b[39minsert(\u001b[39m3\u001b[39m)\n",
      "\u001b[1;32me:\\Python_Time\\OOPS\\Linked_list.ipynb Cell 2\u001b[0m line \u001b[0;36m1\n\u001b[0;32m     <a href='vscode-notebook-cell:/e%3A/Python_Time/OOPS/Linked_list.ipynb#W2sZmlsZQ%3D%3D?line=9'>10</a>\u001b[0m \u001b[39mdef\u001b[39;00m \u001b[39minsert\u001b[39m(\u001b[39mself\u001b[39m, data):\n\u001b[0;32m     <a href='vscode-notebook-cell:/e%3A/Python_Time/OOPS/Linked_list.ipynb#W2sZmlsZQ%3D%3D?line=10'>11</a>\u001b[0m     \u001b[39mif\u001b[39;00m \u001b[39mself\u001b[39m\u001b[39m.\u001b[39mhead \u001b[39m==\u001b[39m \u001b[39mNone\u001b[39;00m:\n\u001b[1;32m---> <a href='vscode-notebook-cell:/e%3A/Python_Time/OOPS/Linked_list.ipynb#W2sZmlsZQ%3D%3D?line=11'>12</a>\u001b[0m         \u001b[39mself\u001b[39m\u001b[39m.\u001b[39mhead \u001b[39m=\u001b[39m NewNode(data)\n\u001b[0;32m     <a href='vscode-notebook-cell:/e%3A/Python_Time/OOPS/Linked_list.ipynb#W2sZmlsZQ%3D%3D?line=13'>14</a>\u001b[0m     \u001b[39melse\u001b[39;00m:\n\u001b[0;32m     <a href='vscode-notebook-cell:/e%3A/Python_Time/OOPS/Linked_list.ipynb#W2sZmlsZQ%3D%3D?line=14'>15</a>\u001b[0m         end \u001b[39m=\u001b[39m \u001b[39mself\u001b[39m\u001b[39m.\u001b[39mhead\n",
      "\u001b[1;32me:\\Python_Time\\OOPS\\Linked_list.ipynb Cell 2\u001b[0m line \u001b[0;36m3\n\u001b[0;32m      <a href='vscode-notebook-cell:/e%3A/Python_Time/OOPS/Linked_list.ipynb#W2sZmlsZQ%3D%3D?line=1'>2</a>\u001b[0m \u001b[39mdef\u001b[39;00m \u001b[39m__init__\u001b[39m(\u001b[39mself\u001b[39m, date) \u001b[39m-\u001b[39m\u001b[39m>\u001b[39m \u001b[39mNone\u001b[39;00m:\n\u001b[1;32m----> <a href='vscode-notebook-cell:/e%3A/Python_Time/OOPS/Linked_list.ipynb#W2sZmlsZQ%3D%3D?line=2'>3</a>\u001b[0m     \u001b[39mself\u001b[39m\u001b[39m.\u001b[39mdata \u001b[39m=\u001b[39m data\n\u001b[0;32m      <a href='vscode-notebook-cell:/e%3A/Python_Time/OOPS/Linked_list.ipynb#W2sZmlsZQ%3D%3D?line=3'>4</a>\u001b[0m     \u001b[39mself\u001b[39m\u001b[39m.\u001b[39mnext \u001b[39m=\u001b[39m \u001b[39mNone\u001b[39;00m\n",
      "\u001b[1;31mNameError\u001b[0m: name 'data' is not defined"
     ]
    }
   ],
   "source": [
    "class NewNode:\n",
    "    def __init__(self, date) -> None:\n",
    "        self.data = data\n",
    "        self.next = None\n",
    "\n",
    "class single_list:\n",
    "    def __init__(self) -> None:\n",
    "        self.head = None\n",
    "\n",
    "    def insert(self, data):\n",
    "        if self.head == None:\n",
    "            self.head = NewNode(data)\n",
    "        \n",
    "        else:\n",
    "            end = self.head\n",
    "            while end.next != None:\n",
    "                end = end.next\n",
    "            end.next = NewNode(data)\n",
    "\n",
    "\n",
    "    def traverse(self):\n",
    "        if self.head == None:\n",
    "            print(\"list...empty\")\n",
    "        else:\n",
    "            end = self.head\n",
    "        while end != None:\n",
    "                print(end.data)\n",
    "           \n",
    "   \n",
    "\n",
    "my_list = single_list()  \n",
    "my_list.insert(1)\n",
    "my_list.insert(2)\n",
    "my_list.insert(3)\n",
    "my_list.insert(4)\n",
    "\n",
    "my_list.traverse()"
   ]
  }
 ],
 "metadata": {
  "kernelspec": {
   "display_name": "Python 3",
   "language": "python",
   "name": "python3"
  },
  "language_info": {
   "codemirror_mode": {
    "name": "ipython",
    "version": 3
   },
   "file_extension": ".py",
   "mimetype": "text/x-python",
   "name": "python",
   "nbconvert_exporter": "python",
   "pygments_lexer": "ipython3",
   "version": "3.12.0"
  }
 },
 "nbformat": 4,
 "nbformat_minor": 2
}
